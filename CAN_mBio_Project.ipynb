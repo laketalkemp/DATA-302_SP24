{
  "nbformat": 4,
  "nbformat_minor": 0,
  "metadata": {
    "colab": {
      "provenance": [],
      "authorship_tag": "ABX9TyM1koHiGq/ddHpUZjhO3uof",
      "include_colab_link": true
    },
    "kernelspec": {
      "name": "python3",
      "display_name": "Python 3"
    },
    "language_info": {
      "name": "python"
    }
  },
  "cells": [
    {
      "cell_type": "markdown",
      "metadata": {
        "id": "view-in-github",
        "colab_type": "text"
      },
      "source": [
        "<a href=\"https://colab.research.google.com/github/laketalkemp/DATA-302_SP24/blob/main/CAN_mBio_Project.ipynb\" target=\"_parent\"><img src=\"https://colab.research.google.com/assets/colab-badge.svg\" alt=\"Open In Colab\"/></a>"
      ]
    },
    {
      "cell_type": "markdown",
      "source": [
        "# CAN-mBio Project\n",
        "An analysis of global crop productivity and its relationship to intellectual property rights for plant breeders.\n",
        "\n",
        "## Stakeholders\n",
        "[mBio](https://datascience.uchicago.edu/news/new-mbio-data-portal-brings-transparency-to-genetically-modified-crops-in-africa/) is a collaboration between researchers based at **The University of San Francisco**, **The University of Chicago**, and **The University of Cambridge**. The project exists to understand the effects of GMO crop development primarily on the African continent.\n",
        "\n",
        "The project, funded by the [11th hour foundation](https://11thhourproject.org/), has successfully built a [database](https://mbioproject.org/about) of information about the use of GMOs and other related material by scraping public websites and using AI, ML and other data techniques to source information. This databases provides a unique perspective on who and how these products are used.\n",
        "\n",
        "This project has resulted in both [popular press mentions](https://www.thenation.com/article/world/new-colonialist-food-economy/) and published [academic articles](https://nph.onlinelibrary.wiley.com/doi/full/10.1002/ppp3.10453).\n",
        "\n",
        "The **[University of Chicago Data Science Institute (DSI)](https://datascience.uchicago.edu/)**, founded in 2021, executes the university's bold, innovative vision of Data Science as a new discipline. Through a grant received from the 11th Hour Project run by the Schmidt Family Foundation, its staff consults with social impact organizations to provide technical solutions at no cost.\n",
        "\n",
        "## Background\n",
        "Plant breeding is essential for achieving food security in the context of modern population growth and climate change. Improved plant fertility, pest and disease resistance, salt and drought tolerance, and nutrient absorption, among other adaptations, result in larger crop yields while minimizing harm to the natural environment. However, successful plant breeding requires expertise, time (10-15 years for many species), and to scale, significant investments in land and specialized equipment like greenhouses, growth chambers, and laboratories.\n",
        "\n",
        "The <u>[International Union for the Protection of New Varieties of Plants (UPOV) ](https://www.upov.int/portal/index.html.en)</u> —an intergovernmental organization founded in 1961 and based in Geneva, Switzerland—argues that plant breeders must be incentivized to continue their work given that a new plant variety can easily be reproduced and reused by others once discovered. To safeguard economic profits for breeders, UPOV has developed a \"blueprint\" regulatory framework of intellectual property rights (i.e., the UPOV Convention) that awards breeders monopolies on new plant varieties and requires other farmers to seek their authorization for marketing and sale of the varieties (e.g., through licensing fees). Today, a country or intergovernmental organization can become a member of UPOV by adapting the intellectual property laws in the UPOV Convention to their own legal jurisdictions. As of May 2023, UPOV had 78 members representing more than a third of the world’s countries.\n",
        "\n",
        "However, this growth in membership has not been without controversy. Grassroots organizations and nonprofits and other experts argue that UPOV favors seeds from “Big Ag” companies like Bayer (who acquired Monsanto), Syngenta, Corteva, and BASF over those from small farmers. These companies typically grow export crops using monoculture farming, an unsustainable practice that depletes the soil of nutrients over time and requires extensive irrigation, fertilizers, and pesticides that harm the environment. On June 1st, 2023, a coalition of farmers’ organizations, women’s organizations, trade activists, and consumer groups released a joint statement to express their concern over Benin’s potential membership in UPOV, urging the nation to protect its food sovereignty from foreign companies and promote the use of indigenous seeds better adapted to the local environment. The outcome of these efforts is still to be determined, but they hope to continue lobbying against UPOV."
      ],
      "metadata": {
        "id": "Pxl3s1E3hpPA"
      }
    },
    {
      "cell_type": "markdown",
      "source": [
        "## Problem\n",
        "Researchers and other experts suspects that the growth of the UPOV has not resulted in larger crop yields over time and would like to test their hypothesis by analyzing publicly available data from the [Food and Agriculture Organization (FAO) of the United Nations](https://www.fao.org/faostat/en/#data/QCL). This dataset records hectares of land area harvested and tons of output produced for different primary crops (e.g., almonds, papayas, avocadoes) each year from 1961 to 2021 for over 200 countries. It is also supplemented by additional datasets listing standardized country codes, units of measurement, and quality control flags and countries' membership in UPOV over time.\n",
        "\n",
        "An exploratory data analysis (EDA) could explore the following questions:\n",
        "\n",
        "* How are crop types currently distributed across countries, and how has this changed over time, if at all?\n",
        "* For each crop type, has there been an overall increase or decrease in the number of tons produced? In the area harvested? Are there certain countries where production or land area of the crop has dramatically increased or decreased? Explain.\n",
        "* For each country, how has the total area harvested and tons of crops produced changed over time? Cross-reference these time series with current events to better understand why this might be the case.\n",
        "* How are the quality flags (official figure, estimate value, imputed value, etc.) distributed across the dataset? Is data collected for certain years or geographic areas seemingly more robust?\n",
        "\n",
        "Meanwhile, our main research questions are as follows:\n",
        "\n",
        "* Is membership in UPOV positively correlated with, or predictive of, higher crop yields? Is the effect noticeable after a certain amount of time has passed since joining?\n",
        "* What effect does joining UPOV have on the area harvested of specific crops? Are there crops that seem to have been more affected? If so, conduct a case study of one to two crops to better understand what factors may have contributed to that outcome.\n",
        "\n",
        "## Expected Deliverables\n",
        "Each team is expected to turn in:\n",
        "\n",
        "* A Python script with functions to clean and standardize the crop dataset.\n",
        "An EDA that loads the data and then answers the questions above using one or more Jupyter notebooks.\n",
        "* A Jupyter notebook that explores the correlation between UPOV membership and crop yields and determines the extent to which UPOV membership is predictive of yields.\n",
        "* A Jupyter notebook that explores the effect joining UPOV had on the area harvested for different crops.\n",
        "* A written (2-3 pages) or digital report that walks through your data, methodology, analysis, and conclusions and provides data visualizations.\n",
        "\n",
        "## Working with the Data\n",
        "This repository only contains the data for use by this project. All datasets are saved as comma-separated files and can be read by any analysis tool which opens standard CSV.\n",
        "\n",
        "The data in this repository should be considered a starting point for this project. There are numerous directions that the analysis could go and leveraging additional datasets to support your conclusions is strongly encouraged."
      ],
      "metadata": {
        "id": "qMJgDG9UiLQl"
      }
    },
    {
      "cell_type": "markdown",
      "source": [
        "## Data Dictionary\n",
        "### **faostat_country_codes.csv**\n",
        "This CSV file maps country names to United Nations country codes and ISO2 and ISO3 codes from the [International Organization for Standardization](https://www.iso.org/about-us.html). It was downloaded directly from the FAOSTAT website.\n",
        "\n",
        "<table>\n",
        "<thead>\n",
        "<tr>\n",
        "<th>Column Name</th>\n",
        "<th>Data Type</th>\n",
        "<th>Description</th>\n",
        "<th>Example Value</th>\n",
        "</tr>\n",
        "</thead>\n",
        "<tbody>\n",
        "<tr>\n",
        "<td>Country Code</td>\n",
        "<td>String</td>\n",
        "<td>A likely auto-generated code.</td>\n",
        "<td><code>\"2\"</code></td>\n",
        "</tr>\n",
        "<tr>\n",
        "<td>Country</td>\n",
        "<td>String</td>\n",
        "<td>The country name.</td>\n",
        "<td><code>\"Afghanistan\"</code></td>\n",
        "</tr>\n",
        "<tr>\n",
        "<td>M49 Code</td>\n",
        "<td>String</td>\n",
        "<td>The United Nations M49 standard code.</td>\n",
        "<td><code>\"'004\"</code></td>\n",
        "</tr>\n",
        "<tr>\n",
        "<td>ISO2 Code</td>\n",
        "<td>String</td>\n",
        "<td>The ISO2 standard code.</td>\n",
        "<td><code>\"AF\"</code></td>\n",
        "</tr>\n",
        "<tr>\n",
        "<td>ISO3 Code</td>\n",
        "<td>String</td>\n",
        "<td>The ISO3 standard code.</td>\n",
        "<td><code>\"AFG\"</code></td>\n",
        "</tr>\n",
        "<tr>\n",
        "<td>Start Year</td>\n",
        "<td>Integer</td>\n",
        "<td>---</td>\n",
        "<td>---</td>\n",
        "</tr>\n",
        "<tr>\n",
        "<td>End Year</td>\n",
        "<td>Integer</td>\n",
        "<td>---</td>\n",
        "<td>---</td>\n",
        "</tr>\n",
        "</tbody>\n",
        "</table>\n",
        "\n",
        "### **faostat_crops.csv**\n",
        "This CSV file contains information on crop production and harvested area size over time for different countries. It was downloaded directly from the FAOSTAT website. Please note that data cleaning should drop irrelevant columns and only keep the Area harvested and Production metrics.\n",
        "\n",
        "<table>\n",
        "<thead>\n",
        "<tr>\n",
        "<th>Column Name</th>\n",
        "<th>Data Type</th>\n",
        "<th>Description</th>\n",
        "<th>Example Value</th>\n",
        "</tr>\n",
        "</thead>\n",
        "<tbody>\n",
        "<tr>\n",
        "<td>Area Code</td>\n",
        "<td>String</td>\n",
        "<td>A unique identifer for the country. Likely automatically generated.</td>\n",
        "<td><code>\"2\"</code></td>\n",
        "</tr>\n",
        "<tr>\n",
        "<td>Area Code (M49)</td>\n",
        "<td>String</td>\n",
        "<td>A unique identifer for the country. Uses the United Nations' M49 standard.</td>\n",
        "<td><code>\"'004\"</code></td>\n",
        "</tr>\n",
        "<tr>\n",
        "<td>Area</td>\n",
        "<td>String</td>\n",
        "<td>The country name.</td>\n",
        "<td><code>\"Afghanistan\"</code></td>\n",
        "</tr>\n",
        "<tr>\n",
        "<td>Item Code</td>\n",
        "<td>String</td>\n",
        "<td>A unique identifier for the crop grown. Likely automatically generated.</td>\n",
        "<td><code>\"221\"</code></td>\n",
        "</tr>\n",
        "<tr>\n",
        "<td>Item Code (CPC)</td>\n",
        "<td>String</td>\n",
        "<td>A unique identifier for the crop grown. Uses the Central Product Classification System standard.</td>\n",
        "<td><code>\"'01371\"</code></td>\n",
        "</tr>\n",
        "<tr>\n",
        "<td>Item</td>\n",
        "<td>String</td>\n",
        "<td>The crop name.</td>\n",
        "<td><code>\"Almonds, in shell\"</code></td>\n",
        "</tr>\n",
        "<tr>\n",
        "<td>Element Code</td>\n",
        "<td>String</td>\n",
        "<td>A unique identifier for the metric observed.</td>\n",
        "<td><code>\"5312\"</code></td>\n",
        "</tr>\n",
        "<tr>\n",
        "<td>Element</td>\n",
        "<td>String</td>\n",
        "<td>The name of the metric observed.</td>\n",
        "<td><code>\"Area harvested\"</code></td>\n",
        "</tr>\n",
        "<tr>\n",
        "<td>Unit</td>\n",
        "<td>String</td>\n",
        "<td>The units used to measure the metric.</td>\n",
        "<td><code>\"ha\"</code></td>\n",
        "</tr>\n",
        "<tr>\n",
        "<td>Y****</td>\n",
        "<td>String</td>\n",
        "<td>The value of the metric for the given year. In the column name, the asterisks are replaced by a year (e.g., <code>Y1976</code>).</td>\n",
        "<td><code>\"5900\"</code></td>\n",
        "</tr>\n",
        "<tr>\n",
        "<td>Y****F</td>\n",
        "<td>String</td>\n",
        "<td>The quality control flag for the metric in the given year. In the column name, the asterisks are replaced by a year (e.g., <code>Y1976F</code>).</td>\n",
        "<td><code>\"E\"</code></td>\n",
        "</tr>\n",
        "<tr>\n",
        "<td>Y****N</td>\n",
        "<td>String</td>\n",
        "<td>Notes about the quality control flag used for the metric. In the column name, the asterisks are replaced by a year (e.g., <code>Y1976N</code>).</td>\n",
        "<td><code>\"Unofficial figure\"</code></td>\n",
        "</tr>\n",
        "</tbody>\n",
        "</table>\n",
        "\n",
        "### **faostat_flags.csv**\n",
        "This CSV file describes the meaning of each quality control flag in the crop dataset. It was downloaded directly from the FAOSTAT website.\n",
        "<table>\n",
        "<thead>\n",
        "<tr>\n",
        "<th>Column Name</th>\n",
        "<th>Data Type</th>\n",
        "<th>Description</th>\n",
        "<th>Example Value</th>\n",
        "</tr>\n",
        "</thead>\n",
        "<tbody>\n",
        "<tr>\n",
        "<td>Flag</td>\n",
        "<td>String</td>\n",
        "<td>The flag value.</td>\n",
        "<td><code>\"Q\"</code></td>\n",
        "</tr>\n",
        "<tr>\n",
        "<td>Flags</td>\n",
        "<td>String</td>\n",
        "<td>The flag meaning/interpretation.</td>\n",
        "<td><code>\"Missing value; suppressed\"</code></td>\n",
        "</tr>\n",
        "</tbody>\n",
        "</table>\n",
        "\n",
        "### **faostat_units.csv**\n",
        "This CSV file describes the meaning of each unit of measurement in the crop dataset. It was downloaded directly from the FAOSTAT website.\n",
        "<table>\n",
        "<thead>\n",
        "<tr>\n",
        "<th>Column Name</th>\n",
        "<th>Data Type</th>\n",
        "<th>Description</th>\n",
        "<th>Example Value</th>\n",
        "</tr>\n",
        "</thead>\n",
        "<tbody>\n",
        "<tr>\n",
        "<td>Unit Name</td>\n",
        "<td>String</td>\n",
        "<td>The unit value.</td>\n",
        "<td><code>\"100 g/ha\"</code></td>\n",
        "</tr>\n",
        "<tr>\n",
        "<td>Description</td>\n",
        "<td>String</td>\n",
        "<td>The unit meaning/interpretation.</td>\n",
        "<td><code>\"hundred Grams per hectare\"</code></td>\n",
        "</tr>\n",
        "</tbody>\n",
        "</table>\n",
        "\n",
        "### **upov_members.csv**\n",
        "This CSV file contains information on when different countries joined the UPOV. This was collected and cleaned by the Data Science Institute staff.\n",
        "\n",
        "<table>\n",
        "<thead>\n",
        "<tr>\n",
        "<th>Column Name</th>\n",
        "<th>Data Type</th>\n",
        "<th>Description</th>\n",
        "<th>Example Value</th>\n",
        "</tr>\n",
        "</thead>\n",
        "<tbody>\n",
        "<tr>\n",
        "<td>Country</td>\n",
        "<td>String</td>\n",
        "<td>The country name.</td>\n",
        "<td><code>\"Australia\"</code></td>\n",
        "</tr>\n",
        "<tr>\n",
        "<td>Entry Year</td>\n",
        "<td>Integer</td>\n",
        "<td>The year the country joined the UPOV.</td>\n",
        "<td><code>1989</code></td>\n",
        "</tr>\n",
        "</tbody>\n",
        "</table>"
      ],
      "metadata": {
        "id": "dxzJGyJ3iFFG"
      }
    },
    {
      "cell_type": "markdown",
      "source": [
        "# Extract, Transform, Load"
      ],
      "metadata": {
        "id": "dvfrm2TrnK_W"
      }
    },
    {
      "cell_type": "code",
      "source": [
        "# Load the Dataset\n",
        "# Mount the Google Drive\n",
        "from google.colab import drive\n",
        "drive.mount('/content/drive', force_remount=True)"
      ],
      "metadata": {
        "colab": {
          "base_uri": "https://localhost:8080/"
        },
        "id": "NmXezlOfuz7Y",
        "outputId": "1c3a2649-9aa9-4260-d6ac-b2d04fb86259"
      },
      "execution_count": 20,
      "outputs": [
        {
          "output_type": "stream",
          "name": "stdout",
          "text": [
            "Mounted at /content/drive\n"
          ]
        }
      ]
    },
    {
      "cell_type": "code",
      "execution_count": 21,
      "metadata": {
        "id": "tlfcfKf9hdlZ"
      },
      "outputs": [],
      "source": [
        "# Import the libraries\n",
        "import numpy as np                  # Scientific Computing\n",
        "import pandas as pd                 # Data Analysis\n",
        "import matplotlib.pyplot as plt     # Plotting\n",
        "import seaborn as sns               # Statistical Data Visualization\n",
        "\n",
        "# Let's make sure pandas returns all the rows and columns for the dataframe\n",
        "pd.set_option('display.max_rows', None)\n",
        "pd.set_option('display.max_columns', None)\n",
        "\n",
        "# Force pandas to display full numbers instead of scientific notation\n",
        "# pd.options.display.float_format = '{:.0f}'.format\n",
        "\n",
        "# Library to suppress warnings\n",
        "import warnings\n",
        "warnings.filterwarnings('ignore')"
      ]
    },
    {
      "cell_type": "code",
      "source": [
        "! ls"
      ],
      "metadata": {
        "colab": {
          "base_uri": "https://localhost:8080/"
        },
        "id": "-ihldKKXvC6D",
        "outputId": "47508075-262f-49f4-e63c-c09b6e8b2c26"
      },
      "execution_count": 27,
      "outputs": [
        {
          "output_type": "stream",
          "name": "stdout",
          "text": [
            "MyDrive  Shareddrives\n"
          ]
        }
      ]
    },
    {
      "cell_type": "code",
      "source": [
        "cd 'Group Project'"
      ],
      "metadata": {
        "colab": {
          "base_uri": "https://localhost:8080/"
        },
        "id": "sTUcphPFvRqt",
        "outputId": "1c940bd7-556f-4283-eb5a-8d4dd6a2cc8f"
      },
      "execution_count": 35,
      "outputs": [
        {
          "output_type": "stream",
          "name": "stdout",
          "text": [
            "/content/drive/MyDrive/Spring 2024/DATA 304 Applied Data Science for Social Impact/Group Project\n"
          ]
        }
      ]
    },
    {
      "cell_type": "code",
      "source": [
        "! ls"
      ],
      "metadata": {
        "colab": {
          "base_uri": "https://localhost:8080/"
        },
        "id": "oFPSlFjKvd8Q",
        "outputId": "06cd7659-8014-476b-c73e-90d1c4678976"
      },
      "execution_count": 36,
      "outputs": [
        {
          "output_type": "stream",
          "name": "stdout",
          "text": [
            "'11-17 Feb2024_PlanningDoc.gdoc'\n",
            " 28Jan_03Feb2024_PlanningDoc.gdoc\n",
            "'Annotated Bibliography.gdoc'\n",
            "'CAN-mBio Project.ipynb'\n",
            " faostat_crops.csv\n",
            "'Giannini_Global persepective on African Climate.pdf'\n",
            "'PlanningDoc Template.gdoc'\n",
            "'Plants People Planet - 2023 - Dowd‐Uribe - Bridging the gap  Public private partnerships and genetically modified crop.pdf'\n",
            " Thomson-YieldPlantVariety-2015.pdf\n"
          ]
        }
      ]
    },
    {
      "cell_type": "code",
      "source": [
        "# Clone the repo\n",
        "! git clone https://github.com/laketalkemp/DATA-302_SP24/tree/3890b4645546351a09c0bea221f7636312dfccdc/data"
      ],
      "metadata": {
        "colab": {
          "base_uri": "https://localhost:8080/"
        },
        "id": "Uyfub6JNwNR2",
        "outputId": "c85df576-f725-424a-c2f3-8e49f31403f4"
      },
      "execution_count": 39,
      "outputs": [
        {
          "output_type": "stream",
          "name": "stdout",
          "text": [
            "Cloning into 'data'...\n",
            "fatal: repository 'https://github.com/laketalkemp/DATA-302_SP24/tree/3890b4645546351a09c0bea221f7636312dfccdc/data/' not found\n"
          ]
        }
      ]
    },
    {
      "cell_type": "code",
      "source": [
        "! wget https://raw.githubusercontent.com/laketalkemp/DATA-302_SP24/main/data/faostat_crops.csv"
      ],
      "metadata": {
        "colab": {
          "base_uri": "https://localhost:8080/"
        },
        "id": "xSrkdTCkr1GI",
        "outputId": "abd6c41e-6626-4035-8ff3-3aa773a34867"
      },
      "execution_count": 13,
      "outputs": [
        {
          "output_type": "stream",
          "name": "stdout",
          "text": [
            "--2024-02-12 05:05:40--  https://raw.githubusercontent.com/laketalkemp/DATA-302_SP24/main/data/faostat_crops.csv\n",
            "Resolving raw.githubusercontent.com (raw.githubusercontent.com)... 185.199.108.133, 185.199.109.133, 185.199.110.133, ...\n",
            "Connecting to raw.githubusercontent.com (raw.githubusercontent.com)|185.199.108.133|:443... connected.\n",
            "HTTP request sent, awaiting response... 200 OK\n",
            "Length: 45158996 (43M) [text/plain]\n",
            "Saving to: ‘faostat_crops.csv’\n",
            "\n",
            "faostat_crops.csv   100%[===================>]  43.07M  --.-KB/s    in 0.1s    \n",
            "\n",
            "2024-02-12 05:05:41 (290 MB/s) - ‘faostat_crops.csv’ saved [45158996/45158996]\n",
            "\n"
          ]
        }
      ]
    },
    {
      "cell_type": "code",
      "source": [
        "! wget https://raw.githubusercontent.com/laketalkemp/DATA-302_SP24/main/data/faostat_country_codes.csv"
      ],
      "metadata": {
        "colab": {
          "base_uri": "https://localhost:8080/"
        },
        "id": "mWw1OMTJr_8g",
        "outputId": "3beb0c74-055e-4e2c-f96a-7be1836b24d8"
      },
      "execution_count": 14,
      "outputs": [
        {
          "output_type": "stream",
          "name": "stdout",
          "text": [
            "--2024-02-12 05:05:48--  https://raw.githubusercontent.com/laketalkemp/DATA-302_SP24/main/data/faostat_country_codes.csv\n",
            "Resolving raw.githubusercontent.com (raw.githubusercontent.com)... 185.199.108.133, 185.199.109.133, 185.199.110.133, ...\n",
            "Connecting to raw.githubusercontent.com (raw.githubusercontent.com)|185.199.108.133|:443... connected.\n",
            "HTTP request sent, awaiting response... 200 OK\n",
            "Length: 12601 (12K) [text/plain]\n",
            "Saving to: ‘faostat_country_codes.csv’\n",
            "\n",
            "\r          faostat_c   0%[                    ]       0  --.-KB/s               \rfaostat_country_cod 100%[===================>]  12.31K  --.-KB/s    in 0s      \n",
            "\n",
            "2024-02-12 05:05:48 (98.6 MB/s) - ‘faostat_country_codes.csv’ saved [12601/12601]\n",
            "\n"
          ]
        }
      ]
    },
    {
      "cell_type": "code",
      "source": [
        "! wget https://raw.githubusercontent.com/laketalkemp/DATA-302_SP24/main/data/faostat_flags.csv"
      ],
      "metadata": {
        "colab": {
          "base_uri": "https://localhost:8080/"
        },
        "id": "QOiqPL9IsCBR",
        "outputId": "e5978ee0-ed26-489c-dde8-eee922fa9df2"
      },
      "execution_count": 15,
      "outputs": [
        {
          "output_type": "stream",
          "name": "stdout",
          "text": [
            "--2024-02-12 05:05:55--  https://raw.githubusercontent.com/laketalkemp/DATA-302_SP24/main/data/faostat_flags.csv\n",
            "Resolving raw.githubusercontent.com (raw.githubusercontent.com)... 185.199.109.133, 185.199.111.133, 185.199.108.133, ...\n",
            "Connecting to raw.githubusercontent.com (raw.githubusercontent.com)|185.199.109.133|:443... connected.\n",
            "HTTP request sent, awaiting response... 200 OK\n",
            "Length: 407 [text/plain]\n",
            "Saving to: ‘faostat_flags.csv’\n",
            "\n",
            "\rfaostat_flags.csv     0%[                    ]       0  --.-KB/s               \rfaostat_flags.csv   100%[===================>]     407  --.-KB/s    in 0s      \n",
            "\n",
            "2024-02-12 05:05:55 (26.5 MB/s) - ‘faostat_flags.csv’ saved [407/407]\n",
            "\n"
          ]
        }
      ]
    },
    {
      "cell_type": "code",
      "source": [
        "! wget https://raw.githubusercontent.com/laketalkemp/DATA-302_SP24/main/data/faostat_units.csv"
      ],
      "metadata": {
        "colab": {
          "base_uri": "https://localhost:8080/"
        },
        "id": "W68hecDtsKLO",
        "outputId": "0128ddbd-af74-42d1-fbb7-88371de839d3"
      },
      "execution_count": 16,
      "outputs": [
        {
          "output_type": "stream",
          "name": "stdout",
          "text": [
            "--2024-02-12 05:06:01--  https://raw.githubusercontent.com/laketalkemp/DATA-302_SP24/main/data/faostat_units.csv\n",
            "Resolving raw.githubusercontent.com (raw.githubusercontent.com)... 185.199.108.133, 185.199.109.133, 185.199.110.133, ...\n",
            "Connecting to raw.githubusercontent.com (raw.githubusercontent.com)|185.199.108.133|:443... connected.\n",
            "HTTP request sent, awaiting response... 200 OK\n",
            "Length: 1857 (1.8K) [text/plain]\n",
            "Saving to: ‘faostat_units.csv’\n",
            "\n",
            "\rfaostat_units.csv     0%[                    ]       0  --.-KB/s               \rfaostat_units.csv   100%[===================>]   1.81K  --.-KB/s    in 0s      \n",
            "\n",
            "2024-02-12 05:06:01 (14.9 MB/s) - ‘faostat_units.csv’ saved [1857/1857]\n",
            "\n"
          ]
        }
      ]
    },
    {
      "cell_type": "code",
      "source": [
        "! wget https://raw.githubusercontent.com/laketalkemp/DATA-302_SP24/main/data/upov_members.csv"
      ],
      "metadata": {
        "colab": {
          "base_uri": "https://localhost:8080/"
        },
        "id": "mmG0mD7BsT1C",
        "outputId": "29e0a999-c401-436e-d9df-e70dd457f03a"
      },
      "execution_count": 17,
      "outputs": [
        {
          "output_type": "stream",
          "name": "stdout",
          "text": [
            "--2024-02-12 05:06:06--  https://raw.githubusercontent.com/laketalkemp/DATA-302_SP24/main/data/upov_members.csv\n",
            "Resolving raw.githubusercontent.com (raw.githubusercontent.com)... 185.199.108.133, 185.199.109.133, 185.199.110.133, ...\n",
            "Connecting to raw.githubusercontent.com (raw.githubusercontent.com)|185.199.108.133|:443... connected.\n",
            "HTTP request sent, awaiting response... 200 OK\n",
            "Length: 1323 (1.3K) [text/plain]\n",
            "Saving to: ‘upov_members.csv’\n",
            "\n",
            "\rupov_members.csv      0%[                    ]       0  --.-KB/s               \rupov_members.csv    100%[===================>]   1.29K  --.-KB/s    in 0s      \n",
            "\n",
            "2024-02-12 05:06:07 (55.9 MB/s) - ‘upov_members.csv’ saved [1323/1323]\n",
            "\n"
          ]
        }
      ]
    },
    {
      "cell_type": "code",
      "source": [
        "# Load the datasets\n",
        "faostat_crops = \"https://raw.githubusercontent.com/laketalkemp/DATA-302_SP24/main/data/faostat_crops.csv?raw=True\"\n",
        "faostat_country_codes = \"https://raw.githubusercontent.com/laketalkemp/DATA-302_SP24/main/data/faostat_country_codes.csv?raw=True\"\n",
        "faostat_flags = \"https://raw.githubusercontent.com/laketalkemp/DATA-302_SP24/main/data/faostat_flags.csv?raw=True\"\n",
        "faostat_units = \"https://raw.githubusercontent.com/laketalkemp/DATA-302_SP24/main/data/faostat_units.csv?raw=True\"\n",
        "upov_members = \"https://raw.githubusercontent.com/laketalkemp/DATA-302_SP24/main/data/upov_members.csv?raw=True\""
      ],
      "metadata": {
        "id": "a_UpXURfsZTi"
      },
      "execution_count": null,
      "outputs": []
    },
    {
      "cell_type": "code",
      "source": [
        "# Convert to dataframes\n",
        "faostat_crops = pd.read_csv(\"faostat_crops.csv\", index_col=0)\n",
        "faostat_country_codes = pd.read_csv(\"faostat_country_codes.csv\", index_col=0)\n",
        "faostat_flags = pd.read_csv(\"faostat_flags.csv\", index_col=0)\n",
        "faostat_units = pd.read_csv(\"faostat_units.csv\", index_col=0)\n",
        "upov_members = pd.read_csv(\"upov_members.csv\", index_col=0)"
      ],
      "metadata": {
        "colab": {
          "base_uri": "https://localhost:8080/",
          "height": 310
        },
        "id": "E9bWQHXSn-vt",
        "outputId": "ea83f000-a015-46e6-9f90-207c33414a9b"
      },
      "execution_count": 19,
      "outputs": [
        {
          "output_type": "error",
          "ename": "UnicodeDecodeError",
          "evalue": "'utf-8' codec can't decode byte 0xe9 in position 111051: invalid continuation byte",
          "traceback": [
            "\u001b[0;31m---------------------------------------------------------------------------\u001b[0m",
            "\u001b[0;31mUnicodeDecodeError\u001b[0m                        Traceback (most recent call last)",
            "\u001b[0;32m<ipython-input-19-5a331dd3ca23>\u001b[0m in \u001b[0;36m<cell line: 2>\u001b[0;34m()\u001b[0m\n\u001b[1;32m      1\u001b[0m \u001b[0;31m# Convert to dataframes\u001b[0m\u001b[0;34m\u001b[0m\u001b[0;34m\u001b[0m\u001b[0m\n\u001b[0;32m----> 2\u001b[0;31m \u001b[0mfaostat_crops\u001b[0m \u001b[0;34m=\u001b[0m \u001b[0mpd\u001b[0m\u001b[0;34m.\u001b[0m\u001b[0mread_csv\u001b[0m\u001b[0;34m(\u001b[0m\u001b[0;34m\"faostat_crops.csv\"\u001b[0m\u001b[0;34m,\u001b[0m \u001b[0mindex_col\u001b[0m\u001b[0;34m=\u001b[0m\u001b[0;36m0\u001b[0m\u001b[0;34m)\u001b[0m\u001b[0;34m\u001b[0m\u001b[0;34m\u001b[0m\u001b[0m\n\u001b[0m\u001b[1;32m      3\u001b[0m \u001b[0mfaostat_country_codes\u001b[0m \u001b[0;34m=\u001b[0m \u001b[0mpd\u001b[0m\u001b[0;34m.\u001b[0m\u001b[0mread_csv\u001b[0m\u001b[0;34m(\u001b[0m\u001b[0;34m\"faostat_country_codes.csv\"\u001b[0m\u001b[0;34m,\u001b[0m \u001b[0mindex_col\u001b[0m\u001b[0;34m=\u001b[0m\u001b[0;36m0\u001b[0m\u001b[0;34m)\u001b[0m\u001b[0;34m\u001b[0m\u001b[0;34m\u001b[0m\u001b[0m\n\u001b[1;32m      4\u001b[0m \u001b[0mfaostat_flags\u001b[0m \u001b[0;34m=\u001b[0m \u001b[0mpd\u001b[0m\u001b[0;34m.\u001b[0m\u001b[0mread_csv\u001b[0m\u001b[0;34m(\u001b[0m\u001b[0;34m\"faostat_flags.csv\"\u001b[0m\u001b[0;34m,\u001b[0m \u001b[0mindex_col\u001b[0m\u001b[0;34m=\u001b[0m\u001b[0;36m0\u001b[0m\u001b[0;34m)\u001b[0m\u001b[0;34m\u001b[0m\u001b[0;34m\u001b[0m\u001b[0m\n\u001b[1;32m      5\u001b[0m \u001b[0mfaostat_units\u001b[0m \u001b[0;34m=\u001b[0m \u001b[0mpd\u001b[0m\u001b[0;34m.\u001b[0m\u001b[0mread_csv\u001b[0m\u001b[0;34m(\u001b[0m\u001b[0;34m\"faostat_units.csv\"\u001b[0m\u001b[0;34m,\u001b[0m \u001b[0mindex_col\u001b[0m\u001b[0;34m=\u001b[0m\u001b[0;36m0\u001b[0m\u001b[0;34m)\u001b[0m\u001b[0;34m\u001b[0m\u001b[0;34m\u001b[0m\u001b[0m\n",
            "\u001b[0;32m/usr/local/lib/python3.10/dist-packages/pandas/util/_decorators.py\u001b[0m in \u001b[0;36mwrapper\u001b[0;34m(*args, **kwargs)\u001b[0m\n\u001b[1;32m    209\u001b[0m                 \u001b[0;32melse\u001b[0m\u001b[0;34m:\u001b[0m\u001b[0;34m\u001b[0m\u001b[0;34m\u001b[0m\u001b[0m\n\u001b[1;32m    210\u001b[0m                     \u001b[0mkwargs\u001b[0m\u001b[0;34m[\u001b[0m\u001b[0mnew_arg_name\u001b[0m\u001b[0;34m]\u001b[0m \u001b[0;34m=\u001b[0m \u001b[0mnew_arg_value\u001b[0m\u001b[0;34m\u001b[0m\u001b[0;34m\u001b[0m\u001b[0m\n\u001b[0;32m--> 211\u001b[0;31m             \u001b[0;32mreturn\u001b[0m \u001b[0mfunc\u001b[0m\u001b[0;34m(\u001b[0m\u001b[0;34m*\u001b[0m\u001b[0margs\u001b[0m\u001b[0;34m,\u001b[0m \u001b[0;34m**\u001b[0m\u001b[0mkwargs\u001b[0m\u001b[0;34m)\u001b[0m\u001b[0;34m\u001b[0m\u001b[0;34m\u001b[0m\u001b[0m\n\u001b[0m\u001b[1;32m    212\u001b[0m \u001b[0;34m\u001b[0m\u001b[0m\n\u001b[1;32m    213\u001b[0m         \u001b[0;32mreturn\u001b[0m \u001b[0mcast\u001b[0m\u001b[0;34m(\u001b[0m\u001b[0mF\u001b[0m\u001b[0;34m,\u001b[0m \u001b[0mwrapper\u001b[0m\u001b[0;34m)\u001b[0m\u001b[0;34m\u001b[0m\u001b[0;34m\u001b[0m\u001b[0m\n",
            "\u001b[0;32m/usr/local/lib/python3.10/dist-packages/pandas/util/_decorators.py\u001b[0m in \u001b[0;36mwrapper\u001b[0;34m(*args, **kwargs)\u001b[0m\n\u001b[1;32m    329\u001b[0m                     \u001b[0mstacklevel\u001b[0m\u001b[0;34m=\u001b[0m\u001b[0mfind_stack_level\u001b[0m\u001b[0;34m(\u001b[0m\u001b[0;34m)\u001b[0m\u001b[0;34m,\u001b[0m\u001b[0;34m\u001b[0m\u001b[0;34m\u001b[0m\u001b[0m\n\u001b[1;32m    330\u001b[0m                 )\n\u001b[0;32m--> 331\u001b[0;31m             \u001b[0;32mreturn\u001b[0m \u001b[0mfunc\u001b[0m\u001b[0;34m(\u001b[0m\u001b[0;34m*\u001b[0m\u001b[0margs\u001b[0m\u001b[0;34m,\u001b[0m \u001b[0;34m**\u001b[0m\u001b[0mkwargs\u001b[0m\u001b[0;34m)\u001b[0m\u001b[0;34m\u001b[0m\u001b[0;34m\u001b[0m\u001b[0m\n\u001b[0m\u001b[1;32m    332\u001b[0m \u001b[0;34m\u001b[0m\u001b[0m\n\u001b[1;32m    333\u001b[0m         \u001b[0;31m# error: \"Callable[[VarArg(Any), KwArg(Any)], Any]\" has no\u001b[0m\u001b[0;34m\u001b[0m\u001b[0;34m\u001b[0m\u001b[0m\n",
            "\u001b[0;32m/usr/local/lib/python3.10/dist-packages/pandas/io/parsers/readers.py\u001b[0m in \u001b[0;36mread_csv\u001b[0;34m(filepath_or_buffer, sep, delimiter, header, names, index_col, usecols, squeeze, prefix, mangle_dupe_cols, dtype, engine, converters, true_values, false_values, skipinitialspace, skiprows, skipfooter, nrows, na_values, keep_default_na, na_filter, verbose, skip_blank_lines, parse_dates, infer_datetime_format, keep_date_col, date_parser, dayfirst, cache_dates, iterator, chunksize, compression, thousands, decimal, lineterminator, quotechar, quoting, doublequote, escapechar, comment, encoding, encoding_errors, dialect, error_bad_lines, warn_bad_lines, on_bad_lines, delim_whitespace, low_memory, memory_map, float_precision, storage_options)\u001b[0m\n\u001b[1;32m    948\u001b[0m     \u001b[0mkwds\u001b[0m\u001b[0;34m.\u001b[0m\u001b[0mupdate\u001b[0m\u001b[0;34m(\u001b[0m\u001b[0mkwds_defaults\u001b[0m\u001b[0;34m)\u001b[0m\u001b[0;34m\u001b[0m\u001b[0;34m\u001b[0m\u001b[0m\n\u001b[1;32m    949\u001b[0m \u001b[0;34m\u001b[0m\u001b[0m\n\u001b[0;32m--> 950\u001b[0;31m     \u001b[0;32mreturn\u001b[0m \u001b[0m_read\u001b[0m\u001b[0;34m(\u001b[0m\u001b[0mfilepath_or_buffer\u001b[0m\u001b[0;34m,\u001b[0m \u001b[0mkwds\u001b[0m\u001b[0;34m)\u001b[0m\u001b[0;34m\u001b[0m\u001b[0;34m\u001b[0m\u001b[0m\n\u001b[0m\u001b[1;32m    951\u001b[0m \u001b[0;34m\u001b[0m\u001b[0m\n\u001b[1;32m    952\u001b[0m \u001b[0;34m\u001b[0m\u001b[0m\n",
            "\u001b[0;32m/usr/local/lib/python3.10/dist-packages/pandas/io/parsers/readers.py\u001b[0m in \u001b[0;36m_read\u001b[0;34m(filepath_or_buffer, kwds)\u001b[0m\n\u001b[1;32m    609\u001b[0m \u001b[0;34m\u001b[0m\u001b[0m\n\u001b[1;32m    610\u001b[0m     \u001b[0;32mwith\u001b[0m \u001b[0mparser\u001b[0m\u001b[0;34m:\u001b[0m\u001b[0;34m\u001b[0m\u001b[0;34m\u001b[0m\u001b[0m\n\u001b[0;32m--> 611\u001b[0;31m         \u001b[0;32mreturn\u001b[0m \u001b[0mparser\u001b[0m\u001b[0;34m.\u001b[0m\u001b[0mread\u001b[0m\u001b[0;34m(\u001b[0m\u001b[0mnrows\u001b[0m\u001b[0;34m)\u001b[0m\u001b[0;34m\u001b[0m\u001b[0;34m\u001b[0m\u001b[0m\n\u001b[0m\u001b[1;32m    612\u001b[0m \u001b[0;34m\u001b[0m\u001b[0m\n\u001b[1;32m    613\u001b[0m \u001b[0;34m\u001b[0m\u001b[0m\n",
            "\u001b[0;32m/usr/local/lib/python3.10/dist-packages/pandas/io/parsers/readers.py\u001b[0m in \u001b[0;36mread\u001b[0;34m(self, nrows)\u001b[0m\n\u001b[1;32m   1776\u001b[0m                     \u001b[0mcolumns\u001b[0m\u001b[0;34m,\u001b[0m\u001b[0;34m\u001b[0m\u001b[0;34m\u001b[0m\u001b[0m\n\u001b[1;32m   1777\u001b[0m                     \u001b[0mcol_dict\u001b[0m\u001b[0;34m,\u001b[0m\u001b[0;34m\u001b[0m\u001b[0;34m\u001b[0m\u001b[0m\n\u001b[0;32m-> 1778\u001b[0;31m                 \u001b[0;34m)\u001b[0m \u001b[0;34m=\u001b[0m \u001b[0mself\u001b[0m\u001b[0;34m.\u001b[0m\u001b[0m_engine\u001b[0m\u001b[0;34m.\u001b[0m\u001b[0mread\u001b[0m\u001b[0;34m(\u001b[0m  \u001b[0;31m# type: ignore[attr-defined]\u001b[0m\u001b[0;34m\u001b[0m\u001b[0;34m\u001b[0m\u001b[0m\n\u001b[0m\u001b[1;32m   1779\u001b[0m                     \u001b[0mnrows\u001b[0m\u001b[0;34m\u001b[0m\u001b[0;34m\u001b[0m\u001b[0m\n\u001b[1;32m   1780\u001b[0m                 )\n",
            "\u001b[0;32m/usr/local/lib/python3.10/dist-packages/pandas/io/parsers/c_parser_wrapper.py\u001b[0m in \u001b[0;36mread\u001b[0;34m(self, nrows)\u001b[0m\n\u001b[1;32m    228\u001b[0m         \u001b[0;32mtry\u001b[0m\u001b[0;34m:\u001b[0m\u001b[0;34m\u001b[0m\u001b[0;34m\u001b[0m\u001b[0m\n\u001b[1;32m    229\u001b[0m             \u001b[0;32mif\u001b[0m \u001b[0mself\u001b[0m\u001b[0;34m.\u001b[0m\u001b[0mlow_memory\u001b[0m\u001b[0;34m:\u001b[0m\u001b[0;34m\u001b[0m\u001b[0;34m\u001b[0m\u001b[0m\n\u001b[0;32m--> 230\u001b[0;31m                 \u001b[0mchunks\u001b[0m \u001b[0;34m=\u001b[0m \u001b[0mself\u001b[0m\u001b[0;34m.\u001b[0m\u001b[0m_reader\u001b[0m\u001b[0;34m.\u001b[0m\u001b[0mread_low_memory\u001b[0m\u001b[0;34m(\u001b[0m\u001b[0mnrows\u001b[0m\u001b[0;34m)\u001b[0m\u001b[0;34m\u001b[0m\u001b[0;34m\u001b[0m\u001b[0m\n\u001b[0m\u001b[1;32m    231\u001b[0m                 \u001b[0;31m# destructive to chunks\u001b[0m\u001b[0;34m\u001b[0m\u001b[0;34m\u001b[0m\u001b[0m\n\u001b[1;32m    232\u001b[0m                 \u001b[0mdata\u001b[0m \u001b[0;34m=\u001b[0m \u001b[0m_concatenate_chunks\u001b[0m\u001b[0;34m(\u001b[0m\u001b[0mchunks\u001b[0m\u001b[0;34m)\u001b[0m\u001b[0;34m\u001b[0m\u001b[0;34m\u001b[0m\u001b[0m\n",
            "\u001b[0;32m/usr/local/lib/python3.10/dist-packages/pandas/_libs/parsers.pyx\u001b[0m in \u001b[0;36mpandas._libs.parsers.TextReader.read_low_memory\u001b[0;34m()\u001b[0m\n",
            "\u001b[0;32m/usr/local/lib/python3.10/dist-packages/pandas/_libs/parsers.pyx\u001b[0m in \u001b[0;36mpandas._libs.parsers.TextReader._read_rows\u001b[0;34m()\u001b[0m\n",
            "\u001b[0;32m/usr/local/lib/python3.10/dist-packages/pandas/_libs/parsers.pyx\u001b[0m in \u001b[0;36mpandas._libs.parsers.TextReader._tokenize_rows\u001b[0;34m()\u001b[0m\n",
            "\u001b[0;32m/usr/local/lib/python3.10/dist-packages/pandas/_libs/parsers.pyx\u001b[0m in \u001b[0;36mpandas._libs.parsers.raise_parser_error\u001b[0;34m()\u001b[0m\n",
            "\u001b[0;31mUnicodeDecodeError\u001b[0m: 'utf-8' codec can't decode byte 0xe9 in position 111051: invalid continuation byte"
          ]
        }
      ]
    }
  ]
}